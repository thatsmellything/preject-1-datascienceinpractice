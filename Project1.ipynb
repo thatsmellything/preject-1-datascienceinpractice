{
 "cells": [
  {
   "cell_type": "markdown",
   "id": "fb27cee8",
   "metadata": {},
   "source": [
    "## The dataset used for this data analysis：`Appearances.csv`"
   ]
  },
  {
   "cell_type": "markdown",
   "id": "04b55810",
   "metadata": {},
   "source": [
    "**The first row of the uploaded file 'Appearances.csv' contains the field names for the dataset, representing the meaning of each column in the dataset. Here are the meanings of each field name:**\n",
    "\n",
    "- `yearID`: Year Identifier\n",
    "- `teamID`: Team Identifier\n",
    "- `lgID`: League Identifier\n",
    "- `playerID`: Player Identifier\n",
    "- `G_all`: Total Appearances\n",
    "- `GS`: Games Started\n",
    "- `G_batting`: Batting Appearances\n",
    "- `G_defense`: Defensive Appearances\n",
    "- `G_p`: Pitching Appearances\n",
    "- `G_c`: Catcher Appearances\n",
    "- `G_1b`: First Base Appearances\n",
    "- `G_2b`: Second Base Appearances\n",
    "- `G_3b`: Third Base Appearances\n",
    "- `G_ss`: Shortstop Appearances\n",
    "- `G_lf`: Left Field Appearances\n",
    "- `G_cf`: Center Field Appearances\n",
    "- `G_rf`: Right Field Appearances\n",
    "- `G_of`: Total Outfield Appearances\n",
    "- `G_dh`: Designated Hitter Appearances\n",
    "- `G_ph`: Pinch Hitter Appearances\n",
    "- `G_pr`: Pinch Runner Appearances"
   ]
  },
  {
   "cell_type": "markdown",
   "id": "c0ffef14",
   "metadata": {},
   "source": [
    "### Average annual appearances per player"
   ]
  },
  {
   "cell_type": "code",
   "execution_count": null,
   "id": "1c082fab",
   "metadata": {
    "scrolled": true
   },
   "outputs": [],
   "source": [
    "import pandas as pd\n",
    "import matplotlib.pyplot as plt\n",
    "\n",
    "# Read CSV Data\n",
    "df = pd.read_csv('Appearances.csv')\n",
    "\n",
    "# Group the data by year and player, and calculate the total appearances for each player per year.\n",
    "yearly_appearances = df.groupby(['yearID', 'playerID']).agg({'G_all': 'sum'}).reset_index()\n",
    "\n",
    "# Calculate the average number of appearances for each year.\n",
    "average_appearances_per_year = yearly_appearances.groupby('yearID')['G_all'].mean().reset_index()\n",
    "\n",
    "# Set Matplotlib to use English fonts.\n",
    "plt.rcParams['font.sans-serif'] = ['DejaVu Sans']\n",
    "\n",
    "# Generate charts using Matplotlib.\n",
    "plt.figure(figsize=(14, 7))\n",
    "plt.plot(average_appearances_per_year['yearID'], average_appearances_per_year['G_all'], marker='o')\n",
    "plt.title('Average Annual Appearances Per Player')\n",
    "plt.xlabel('Year')\n",
    "plt.ylabel('Average Number of Appearances')\n",
    "plt.grid(True)\n",
    "plt.xticks(rotation=45)\n",
    "plt.tight_layout()  # Adjust the layout to accommodate all labels.\n",
    "\n",
    "# Display the chart.\n",
    "plt.show()"
   ]
  },
  {
   "cell_type": "markdown",
   "id": "04eb917e",
   "metadata": {},
   "source": [
    "**The chart displays the average annual appearances per player. Based on this chart, we can perform the following analysis:**"
   ]
  },
  {
   "cell_type": "markdown",
   "id": "f8438913",
   "metadata": {},
   "source": [
    "- In the early records, we can observe a rapid increase in the average number of appearances. This could be attributed to the early development of baseball and the increasing level of professionalism in the sport.\n",
    "<br>\n",
    "\n",
    "- From the early to mid-20th century, the number of appearances remained relatively stable but experienced some fluctuations. These fluctuations might be related to the socio-economic conditions of the time, player mobilization during World Wars, or other significant events.\n",
    "<br>\n",
    "\n",
    "- In the latter half of the 20th century, there was a noticeable decline in the number of appearances. This could be due to changes in team strategies, the implementation of player rotation policies, or adjustments in the structure of baseball seasons.\n",
    "<br>\n",
    "\n",
    "- In recent years, we can see a decrease in the number of appearances, which may reflect the modern emphasis on player health and rest, as well as teams giving more importance to the long-term performance and career planning of players."
   ]
  },
  {
   "cell_type": "markdown",
   "id": "e0714a62",
   "metadata": {},
   "source": [
    "## The dataset used for this data analysis：`Appearances.csv`"
   ]
  },
  {
   "cell_type": "markdown",
   "id": "75d6d7b6",
   "metadata": {},
   "source": [
    "### Average number of appearances for players in different baseball positions"
   ]
  },
  {
   "cell_type": "code",
   "execution_count": null,
   "id": "432735ff",
   "metadata": {
    "scrolled": true
   },
   "outputs": [],
   "source": [
    "import pandas as pd\n",
    "import matplotlib.pyplot as plt\n",
    "\n",
    "# Read CSV data\n",
    "df = pd.read_csv('Appearances.csv')\n",
    "\n",
    "# Analyze the average number of appearances for players in different positions\n",
    "positions = ['G_p', 'G_c', 'G_1b', 'G_2b', 'G_3b', 'G_ss', 'G_lf', 'G_cf', 'G_rf']\n",
    "position_appearances = df.groupby('yearID')[positions].mean().reset_index()\n",
    "\n",
    "# Set Matplotlib to use English fonts\n",
    "plt.rcParams['font.sans-serif'] = ['DejaVu Sans']\n",
    "\n",
    "# Display data for the most recent year only\n",
    "recent_year = position_appearances['yearID'].max()\n",
    "recent_data = position_appearances[position_appearances['yearID'] == recent_year].iloc[0]\n",
    "positions_data = recent_data[positions]\n",
    "\n",
    "# Create a bar chart\n",
    "plt.figure(figsize=(14, 7))\n",
    "positions_data.plot(kind='bar')\n",
    "plt.title(f'Average Number of Appearances by Position in {recent_year}')\n",
    "plt.xlabel('Position')\n",
    "plt.ylabel('Average Number of Appearances')\n",
    "plt.xticks(range(len(positions)), ['Pitcher', 'Catcher', '1st Base', '2nd Base', '3rd Base', 'Shortstop', 'Left Field', 'Center Field', 'Right Field'], rotation=45)\n",
    "plt.tight_layout()\n",
    "\n",
    "# Display the chart\n",
    "plt.show()"
   ]
  },
  {
   "cell_type": "markdown",
   "id": "e211a221",
   "metadata": {},
   "source": [
    "**The generated bar chart represents the average number of appearances for players in different baseball positions in the past year. Based on this chart, we can observe the following analysis:**"
   ]
  },
  {
   "cell_type": "markdown",
   "id": "486a41c1",
   "metadata": {},
   "source": [
    "- The average number of appearances for pitchers is significantly higher than other positions. This is likely due to the prevalence of pitcher rotation systems, where multiple pitchers typically appear in each game.\n",
    "<br>\n",
    "\n",
    "- Catchers have relatively lower numbers of appearances. This might be because the catcher position demands high physical and mental endurance, leading to fewer consecutive appearances.\n",
    "<br>\n",
    "\n",
    "- First base, second base, third base, and shortstop have relatively balanced numbers of appearances. This could reflect less rotation of players in the infield defensive positions.\n",
    "\n",
    "\n",
    "- Outfielders (left field, center field, right field) also have relatively balanced numbers of appearances, suggesting a more consistent rotation strategy for outfield positions compared to the infield."
   ]
  },
  {
   "cell_type": "markdown",
   "id": "07dba2ef",
   "metadata": {},
   "source": [
    "This type of analysis helps in understanding the differences in player usage strategies for different positions and can provide insights into overall team tactics and player health management. Tactical arrangements and player fitness management are important factors to consider when developing these rotation strategies."
   ]
  },
  {
   "cell_type": "markdown",
   "id": "6e2f8431",
   "metadata": {},
   "source": [
    "## The dataset used for this data analysis：`Batting.csv` and `Pitching.csv`"
   ]
  },
  {
   "cell_type": "markdown",
   "id": "8d17e2d0",
   "metadata": {},
   "source": [
    "### A analysis of if the introduction of the sidearm throw made batters worse at hitting the ball."
   ]
  },
  {
   "cell_type": "code",
   "execution_count": null,
   "id": "c40ade54",
   "metadata": {},
   "outputs": [],
   "source": [
    "#Imports\n",
    "import pandas as pd\n",
    "from matplotlib import pyplot as plt\n",
    "import seaborn as sns"
   ]
  },
  {
   "cell_type": "code",
   "execution_count": null,
   "id": "84e7700a",
   "metadata": {},
   "outputs": [],
   "source": [
    "#read data file\n",
    "battingDataSet = pd.read_csv(\"Batting.csv\")\n",
    "pitchingDataSet = pd.read_csv(\"Pitching.csv\")\n"
   ]
  },
  {
   "cell_type": "code",
   "execution_count": null,
   "id": "6ebe6822",
   "metadata": {},
   "outputs": [],
   "source": [
    "#combine years\n",
    "battingDataSet = battingDataSet.groupby('yearID').sum()\n",
    "battingDataSet = battingDataSet.reset_index()\n",
    "#battingDataSet.head()\n",
    "#Get hits/ab per year\n",
    "battingDataSet['H/AB'] = battingDataSet['H']/battingDataSet['AB']\n",
    "battingDataSet['H/AB'] = battingDataSet['H/AB'].fillna(0)\n",
    "#battingDataSet.head()\n",
    "#remove unneeded columns\n",
    "battingDataSet = battingDataSet.drop(['stint','G','AB','R','H','2B','3B','HR','BB','SO','HBP','SH','SF','IBB'], axis=1)\n",
    "#battingDataSet.head()"
   ]
  },
  {
   "cell_type": "code",
   "execution_count": null,
   "id": "5d2150af",
   "metadata": {},
   "outputs": [],
   "source": [
    "pitchingDataSet = pitchingDataSet.groupby('yearID').sum()\n",
    "pitchingDataSet = pitchingDataSet.reset_index()\n",
    "#pitchingDataSet.head()\n",
    "#get average (wb+hpb)/pitches per year\n",
    "pitchingDataSet['WH/P'] = (pitchingDataSet['W']+pitchingDataSet['HBP'])/pitchingDataSet['H']\n",
    "pitchingDataSet['WH/P'] = pitchingDataSet['WH/P'].fillna(0)\n",
    "#pitchingDataSet.head()\n",
    "#remove unneeded columns\n",
    "pitchingDataSet = pitchingDataSet.drop(['stint','G','W','L','R','SHO','SV','IPouts','H','ER','HR','BB','SO','BAOpp','ERA','IBB','WP','HBP','BK','BFP','GF','R','SH','SF','GIDP'], axis=1)\n",
    "#pitchingDataSet.head()"
   ]
  },
  {
   "cell_type": "code",
   "execution_count": null,
   "id": "37973e85",
   "metadata": {},
   "outputs": [],
   "source": [
    "#plot plot average hits per year line\n",
    "#plot average wild pitches per year line\n",
    "\n",
    "sns.lineplot(x='yearID', y='WH/P', data=pitchingDataSet)\n",
    "sns.lineplot(x='yearID', y='H/AB', data=battingDataSet)\n",
    "\n",
    "plt.title('Comparison of Wild Pitches to Hits')\n",
    "plt.xlabel('Year')\n",
    "plt.ylabel('number of hits')\n",
    "plt.legend(['Wild Pitches','Hits','Hit by Pitches'])\n",
    "\n",
    "#plot the data\n",
    "plt.show()"
   ]
  },
  {
   "cell_type": "code",
   "execution_count": null,
   "id": "71d45848",
   "metadata": {},
   "outputs": [],
   "source": [
    "#plot plot average hits per year line\n",
    "#plot average wild pitches per year line\n",
    "\n",
    "#scale both lines so they overlap and are easier to compare (scale wild pitches by 3)\n",
    "pitchingDataSet['WH/P'] = pitchingDataSet['WH/P']*3\n",
    "battingDataSet['H/AB'] = battingDataSet['H/AB']\n",
    "sns.lineplot(x='yearID', y='WH/P', data=pitchingDataSet)\n",
    "sns.lineplot(x='yearID', y='H/AB', data=battingDataSet)\n",
    "\n",
    "plt.title('Comparison of Wild Pitches to Hits')\n",
    "plt.xlabel('Year')\n",
    "plt.ylabel('number of hits')\n",
    "plt.legend(['Wild Pitches','Hits','Hit by Pitches'])\n",
    "\n",
    "#plot the data\n",
    "plt.show()"
   ]
  },
  {
   "cell_type": "markdown",
   "id": "2aa9f6bb",
   "metadata": {},
   "source": [
    "As we can see from the graph, wild pitches and batter hits are seemingly related. With an increase in wild pitches (sidearm throws, sliders, and other odd pitching techniques that result in an uncaught ball by the baseman) the number of hits decreases. The opposite is true when the number of wild pitches decreases, batting averages increase in that case."
   ]
  },
  {
   "cell_type": "markdown",
   "id": "b0250e8c",
   "metadata": {},
   "source": [
    "## The dataset used for this data analysis：`Batting.csv` and `Pitching.csv`"
   ]
  },
  {
   "cell_type": "markdown",
   "id": "27d88429",
   "metadata": {},
   "source": [
    "See if moving the pitching mound back helped or harmed pitcher and batter performance in 1893. Pitcher mound was moved back from 50 feet to 60 feet 6 inches in 1893.\n",
    "\n",
    "Study on data from 1890-1895."
   ]
  },
  {
   "cell_type": "code",
   "execution_count": null,
   "id": "a4812060",
   "metadata": {},
   "outputs": [],
   "source": [
    "#imports\n",
    "import pandas as pd\n",
    "from matplotlib import pyplot as plt\n",
    "import seaborn as sns"
   ]
  },
  {
   "cell_type": "code",
   "execution_count": null,
   "id": "130157d3",
   "metadata": {},
   "outputs": [],
   "source": [
    "#read data file\n",
    "battingDataSet = pd.read_csv(\"Batting.csv\")\n",
    "pitchingDataSet = pd.read_csv(\"Pitching.csv\")"
   ]
  },
  {
   "cell_type": "code",
   "execution_count": null,
   "id": "976e6128",
   "metadata": {},
   "outputs": [],
   "source": [
    "#batting dataset\n",
    "battingDataSet = battingDataSet.groupby('yearID').sum()\n",
    "battingDataSet = battingDataSet.reset_index()\n",
    "battingDataSet = battingDataSet[battingDataSet['yearID'] >= 1890]\n",
    "battingDataSet = battingDataSet[battingDataSet['yearID'] <= 1896]\n",
    "battingDataSet['H/AB'] = battingDataSet['H']/battingDataSet['AB']\n",
    "battingDataSet['H/AB'] = battingDataSet['H/AB'].fillna(0)\n",
    "battingDataSet['HR/AB'] = battingDataSet['HR']/battingDataSet['AB']\n",
    "battingDataSet['HR/AB'] = battingDataSet['HR/AB']*40\n",
    "#drop columns\n",
    "battingDataSet = battingDataSet.drop(columns=['stint','G','AB','R','HR','2B','3B','RBI','SB','CS','BB','SO','IBB','HBP','SH','SF','GIDP'])\n",
    "battingDataSet = battingDataSet.reset_index()\n",
    "\n",
    "\n",
    "#Pitching strikout averages from years 1890-1896\n",
    "pitchingDataSet = pitchingDataSet.groupby('yearID').sum()\n",
    "pitchingDataSet = pitchingDataSet.reset_index()\n",
    "pitchingDataSet = pitchingDataSet[pitchingDataSet['yearID'] >= 1890]\n",
    "pitchingDataSet = pitchingDataSet[pitchingDataSet['yearID'] <= 1896]\n",
    "pitchingDataSet['SO/R'] = pitchingDataSet['SO']/pitchingDataSet['R']\n",
    "pitchingDataSet['SO/R'] = pitchingDataSet['SO/R'].fillna(0)\n",
    "#remove columns exept for yearID and SO/R R and SO\n",
    "pitchingDataSet = pitchingDataSet.drop(columns=['stint','G','W','L','CG','SHO','SV','IPouts','H','ER','HR','BB','BAOpp','ERA','IBB','WP','HBP','BK','BFP','GF','R','SH','SF','GIDP'])\n",
    "pitchingDataSet = pitchingDataSet.reset_index()\n",
    "#pitchingDataSet.head()\n",
    "battingDataSet.head()"
   ]
  },
  {
   "cell_type": "code",
   "execution_count": null,
   "id": "4c12636d",
   "metadata": {},
   "outputs": [],
   "source": [
    "#graphing\n",
    "sns.set_style(\"whitegrid\")\n",
    "sns.set_context(\"poster\")\n",
    "plt.figure(figsize=(20,10))\n",
    "plt.title(\"Batting Average vs Strikeout Ratio\")\n",
    "plt.xlabel(\"Year\")\n",
    "plt.ylabel(\"Batting Average\")\n",
    "plt.plot(battingDataSet['yearID'], battingDataSet['H/AB'], label=\"Batting Average\")\n",
    "plt.plot(battingDataSet['yearID'], battingDataSet['HR/AB'], label=\"Home Run Ratio (scaled by 40)\")\n",
    "plt.plot(pitchingDataSet['yearID'], pitchingDataSet['SO/R'], label=\"Strikeout Ratio\")\n",
    "plt.legend()\n",
    "plt.show()"
   ]
  },
  {
   "cell_type": "markdown",
   "id": "2c0a690c",
   "metadata": {},
   "source": [
    "As we can see, with the rules change in 1893, the number of hits per game increased, and the number of strikeouts per game decreased. This is because the pitcher mound was moved back, making it easier for batters to hit the ball. This also made it harder for pitchers to strike out batters."
   ]
  }
 ],
 "metadata": {
  "kernelspec": {
   "display_name": "Python 3 (ipykernel)",
   "language": "python",
   "name": "python3"
  },
  "language_info": {
   "codemirror_mode": {
    "name": "ipython",
    "version": 3
   },
   "file_extension": ".py",
   "mimetype": "text/x-python",
   "name": "python",
   "nbconvert_exporter": "python",
   "pygments_lexer": "ipython3",
   "version": "3.10.1"
  }
 },
 "nbformat": 4,
 "nbformat_minor": 5
}
